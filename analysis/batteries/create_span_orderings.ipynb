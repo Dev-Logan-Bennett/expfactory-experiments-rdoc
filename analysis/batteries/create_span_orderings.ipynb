{
 "cells": [
  {
   "cell_type": "code",
   "execution_count": 3,
   "metadata": {},
   "outputs": [],
   "source": [
    "import numpy as np"
   ]
  },
  {
   "cell_type": "code",
   "execution_count": 5,
   "metadata": {},
   "outputs": [
    {
     "data": {
      "text/plain": [
       "[[[0, 1, 0, 1, 0, 1, 1, 0, 0, 1]],\n",
       " [[0, 1, 0, 0, 1, 1, 0, 1, 1, 0]],\n",
       " [[0, 0, 1, 0, 1, 0, 0, 1, 1, 1]],\n",
       " [[1, 0, 1, 0, 1, 1, 1, 0, 0, 0]]]"
      ]
     },
     "execution_count": 5,
     "metadata": {},
     "output_type": "execute_result"
    }
   ],
   "source": [
    "# Set a random seed for reproducibility\n",
    "np.random.seed(0)\n",
    "\n",
    "# Generate 4 random sets of 5 lists, each list having 10 elements of integers 0 and 1\n",
    "# Ensuring each list has exactly 5 instances of either 0 or 1\n",
    "random_sets = []\n",
    "for _ in range(4):\n",
    "    set_ = []\n",
    "    list_ = np.zeros(5, dtype=int).tolist() + np.ones(5, dtype=int).tolist()\n",
    "    np.random.shuffle(list_)\n",
    "    set_.append(list_)\n",
    "    random_sets.append(set_)\n",
    "\n",
    "random_sets"
   ]
  }
 ],
 "metadata": {
  "kernelspec": {
   "display_name": "Python 3",
   "language": "python",
   "name": "python3"
  },
  "language_info": {
   "codemirror_mode": {
    "name": "ipython",
    "version": 3
   },
   "file_extension": ".py",
   "mimetype": "text/x-python",
   "name": "python",
   "nbconvert_exporter": "python",
   "pygments_lexer": "ipython3",
   "version": "3.11.5"
  },
  "orig_nbformat": 4
 },
 "nbformat": 4,
 "nbformat_minor": 2
}
